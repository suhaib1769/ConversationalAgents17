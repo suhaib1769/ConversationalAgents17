{
 "cells": [
  {
   "cell_type": "code",
   "execution_count": 4,
   "metadata": {},
   "outputs": [
    {
     "name": "stdout",
     "output_type": "stream",
     "text": [
      "Downloading train...\n",
      "Downloading valid...\n",
      "Downloading test...\n",
      "Downloading vocab.intent...\n",
      "Downloading vocab.slot...\n"
     ]
    }
   ],
   "source": [
    "import wget\n",
    "from pathlib import Path\n",
    "\n",
    "\n",
    "SNIPS_DATA_BASE_URL = (\n",
    "    \"https://github.com/ogrisel/slot_filling_and_intent_detection_of_SLU/blob/\"\n",
    "    \"master/data/snips/\"\n",
    ")\n",
    "# DO NOT RERUN\n",
    "# for filename in [\"train\", \"valid\", \"test\", \"vocab.intent\", \"vocab.slot\"]:\n",
    "#     path = Path(filename)\n",
    "#     if not path.exists():\n",
    "#         print(f\"Downloading {filename}...\")\n",
    "#         wget.download(SNIPS_DATA_BASE_URL + filename + \"?raw=true\", out=\"ecoleData/\")"
   ]
  },
  {
   "cell_type": "code",
   "execution_count": null,
   "metadata": {},
   "outputs": [],
   "source": []
  }
 ],
 "metadata": {
  "kernelspec": {
   "display_name": "intent",
   "language": "python",
   "name": "python3"
  },
  "language_info": {
   "codemirror_mode": {
    "name": "ipython",
    "version": 3
   },
   "file_extension": ".py",
   "mimetype": "text/x-python",
   "name": "python",
   "nbconvert_exporter": "python",
   "pygments_lexer": "ipython3",
   "version": "3.10.13"
  }
 },
 "nbformat": 4,
 "nbformat_minor": 2
}
