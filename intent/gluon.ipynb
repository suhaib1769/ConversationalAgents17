{
 "cells": [
  {
   "cell_type": "code",
   "execution_count": 6,
   "metadata": {},
   "outputs": [
    {
     "name": "stdout",
     "output_type": "stream",
     "text": [
      "Similarity between \"baby\" and \"infant\":  0.740567\n"
     ]
    }
   ],
   "source": [
    "import numpy as np\n",
    "np.bool = np.bool_\n",
    "\n",
    "import mxnet as mx\n",
    "import gluonnlp as nlp\n",
    "\n",
    "glove = nlp.embedding.create('glove', source='glove.6B.50d')\n",
    "\n",
    "def cos_similarity(embedding, word1, word2):\n",
    "    vec1, vec2 = embedding[word1], embedding[word2]\n",
    "    return mx.nd.dot(vec1, vec2) / (vec1.norm() * vec2.norm())\n",
    "\n",
    "print('Similarity between \"baby\" and \"infant\": ', cos_similarity(glove, 'baby', 'infant').asnumpy()[0])"
   ]
  }
 ],
 "metadata": {
  "kernelspec": {
   "display_name": "intent",
   "language": "python",
   "name": "python3"
  },
  "language_info": {
   "codemirror_mode": {
    "name": "ipython",
    "version": 3
   },
   "file_extension": ".py",
   "mimetype": "text/x-python",
   "name": "python",
   "nbconvert_exporter": "python",
   "pygments_lexer": "ipython3",
   "version": "3.10.13"
  }
 },
 "nbformat": 4,
 "nbformat_minor": 2
}
