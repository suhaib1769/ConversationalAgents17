{
 "cells": [
  {
   "cell_type": "markdown",
   "metadata": {},
   "source": [
    "# README\n",
    "Before starting to run all code, the trained model, tokenizer, and other needed stuff is saved to file. It is sufficient to run last 2/3 code blocks to try how the intent classifier works"
   ]
  },
  {
   "cell_type": "code",
   "execution_count": 2,
   "metadata": {},
   "outputs": [],
   "source": [
    "### Download the data file from the github repo\n",
    "# import wget\n",
    "# url = 'https://raw.githubusercontent.com/clinc/oos-eval/master/data/data_full.json'\n",
    "# wget.download(url)"
   ]
  },
  {
   "cell_type": "code",
   "execution_count": 3,
   "metadata": {},
   "outputs": [],
   "source": [
    "### Load the data\n",
    "# Data is divided into two sections: in-scope and out-of-scope.\n",
    "# In-scope refers to data that is relevant to the intent classifier.\n",
    "# Out-of-scope refers to data that is not relevant to the intent classifier.\n",
    "\n",
    "# Both datasets are further divided into three sections: train, test, and val.\n",
    "\n",
    "\n",
    "import numpy as np\n",
    "import json\n",
    "# Loading json data\n",
    "with open('data_full.json') as file:\n",
    "  data = json.loads(file.read())\n",
    "\n",
    "# Loading out-of-scope intent data\n",
    "val_oos = np.array(data['oos_val'])\n",
    "train_oos = np.array(data['oos_train'])\n",
    "test_oos = np.array(data['oos_test'])\n",
    "\n",
    "# Loading other intents data\n",
    "val_others = np.array(data['val'])\n",
    "train_others = np.array(data['train'])\n",
    "test_others = np.array(data['test'])\n",
    "\n",
    "# Merging out-of-scope and other intent data\n",
    "val = np.concatenate([val_oos,val_others])\n",
    "train = np.concatenate([train_oos,train_others])\n",
    "test = np.concatenate([test_oos,test_others])\n",
    "data = np.concatenate([train,test,val])\n",
    "\n",
    "# only use half the data for now, to speed up training\n",
    "data = data\n",
    "data = data.T\n",
    "\n",
    "text = data[0]\n",
    "labels = data[1]"
   ]
  },
  {
   "cell_type": "code",
   "execution_count": 4,
   "metadata": {},
   "outputs": [],
   "source": [
    "### We split the data into a train and test set by ourselvel because the tutorial says so.\n",
    "\n",
    "from sklearn.model_selection import train_test_split\n",
    "train_txt,test_txt,train_labels,test_labels = train_test_split(text,labels,test_size = 0.3)"
   ]
  },
  {
   "cell_type": "code",
   "execution_count": 5,
   "metadata": {},
   "outputs": [
    {
     "name": "stderr",
     "output_type": "stream",
     "text": [
      "2024-01-19 13:00:56.223918: I tensorflow/core/platform/cpu_feature_guard.cc:182] This TensorFlow binary is optimized to use available CPU instructions in performance-critical operations.\n",
      "To enable the following instructions: AVX2 FMA, in other operations, rebuild TensorFlow with the appropriate compiler flags.\n"
     ]
    }
   ],
   "source": [
    "### We run a tokenizer on our dataset\n",
    "\n",
    "from tensorflow.keras.preprocessing.text import Tokenizer\n",
    "from keras.preprocessing.sequence import pad_sequences\n",
    "max_num_words = 40000\n",
    "\n",
    "classes = np.unique(labels)\n",
    "\n",
    "# create a tokenizer instance\n",
    "tokenizer = Tokenizer(num_words=max_num_words)\n",
    "\n",
    "# tokenize the data. This means assigning a unique number to each word\n",
    "tokenizer.fit_on_texts(train_txt)\n",
    "\n",
    "# the word index, which is a dictionary containing words as keys and their index as the value\n",
    "word_index = tokenizer.word_index"
   ]
  },
  {
   "cell_type": "code",
   "execution_count": 6,
   "metadata": {},
   "outputs": [],
   "source": [
    "### All data fed into the classifier need to be of the same shape, but since sentences have different lengths, we need to pad them to the same length.\n",
    "\n",
    "ls=[]\n",
    "for c in train_txt:\n",
    "    ls.append(len(c.split()))\n",
    "maxLen=int(np.percentile(ls, 98))\n",
    "\n",
    "# convert the text to sequences of numbers, then pad the sequences so they're all the same length. padding is applied to the end of the sequences\n",
    "train_sequences = tokenizer.texts_to_sequences(train_txt)\n",
    "train_sequences = pad_sequences(train_sequences, maxlen=maxLen, padding='post')\n",
    "\n",
    "test_sequences = tokenizer.texts_to_sequences(test_txt)\n",
    "test_sequences = pad_sequences(test_sequences, maxlen=maxLen, padding='post')"
   ]
  },
  {
   "cell_type": "code",
   "execution_count": 7,
   "metadata": {},
   "outputs": [],
   "source": [
    "from sklearn.preprocessing import OneHotEncoder,LabelEncoder\n",
    "\n",
    "# encode the labels as integers\n",
    "label_encoder = LabelEncoder()\n",
    "integer_encoded = label_encoder.fit_transform(classes)\n",
    "\n",
    "# convert integers to one hot encoded labels\n",
    "onehot_encoder = OneHotEncoder(sparse_output=False)\n",
    "integer_encoded = integer_encoded.reshape(len(integer_encoded), 1)\n",
    "\n",
    "# train encoder class labels. convert labels into one hot encoded labels\n",
    "onehot_encoder.fit(integer_encoded)\n",
    "\n",
    "# convert train label into encoded label, then into one hot encoded label\n",
    "train_labels_encoded = label_encoder.transform(train_labels)\n",
    "train_labels_encoded = train_labels_encoded.reshape(len(train_labels_encoded), 1)\n",
    "train_labels_encoded = onehot_encoder.transform(train_labels_encoded)\n",
    "\n",
    "# convert test label into encoded label, then into one hot encoded label\n",
    "test_labels_encoded = label_encoder.transform(test_labels)\n",
    "test_labels_encoded = test_labels_encoded.reshape(len(test_labels_encoded), 1)\n",
    "test_labels_encoded = onehot_encoder.transform(test_labels_encoded)"
   ]
  },
  {
   "cell_type": "code",
   "execution_count": 8,
   "metadata": {},
   "outputs": [],
   "source": [
    "### download glove, a pretrained word embedding model. short for global vectors\n",
    "### file is fucking large gyatdammit - 300MB\n",
    "\n",
    "# DO NOT RERUN\n",
    "# import wget\n",
    "# url ='https://www.dropbox.com/s/a247ju2qsczh0be/glove.6B.100d.txt?dl=1'\n",
    "# wget.download(url)"
   ]
  },
  {
   "cell_type": "code",
   "execution_count": 9,
   "metadata": {},
   "outputs": [],
   "source": [
    "# create a dictionary, where each word indexes its embedding\n",
    "\n",
    "embeddings_index={}\n",
    "\n",
    "with open('glove.6B.100d.txt', encoding='utf8') as f:\n",
    "    for line in f:\n",
    "        values = line.split()\n",
    "        word = values[0]\n",
    "        coefs = np.asarray(values[1:], dtype='float32')\n",
    "        embeddings_index[word] = coefs"
   ]
  },
  {
   "cell_type": "code",
   "execution_count": 10,
   "metadata": {},
   "outputs": [],
   "source": [
    "all_embs = np.stack(list(embeddings_index.values()))\n",
    "emb_mean,emb_std = all_embs.mean(), all_embs.std()\n",
    "\n",
    "num_words = min(max_num_words, len(word_index))+1\n",
    "embedding_dim=len(embeddings_index['the'])\n",
    "\n",
    "# just populate with random values in case there is a missing value\n",
    "embedding_matrix = np.random.normal(emb_mean, emb_std, (num_words, embedding_dim))\n",
    "\n",
    "# word encodings are sorted [1..n]\n",
    "# loop through all (word, encoding) pairs and place it in the embedding matrix\n",
    "for word, i in word_index.items():\n",
    "    if i >= max_num_words:\n",
    "        break\n",
    "    embedding_vector = embeddings_index.get(word)\n",
    "    if embedding_vector is not None:\n",
    "        embedding_matrix[i] = embedding_vector"
   ]
  },
  {
   "cell_type": "code",
   "execution_count": 11,
   "metadata": {},
   "outputs": [],
   "source": [
    "from tensorflow.keras.models import Sequential\n",
    "from keras.initializers import Constant\n",
    "from keras.layers import Dense, Input, Dropout, LSTM, Activation, Bidirectional, Embedding\n",
    "\n",
    "# initialize a sequential model\n",
    "model = Sequential()\n",
    "\n",
    "# add an embedding layer. this layer will take the encoded input and the embedding matrix, and create the embedding layer\n",
    "embedding_layer = Embedding(num_words, 100, input_length=train_sequences.shape[1], embeddings_initializer=Constant(embedding_matrix), trainable=False)\n",
    "model.add(embedding_layer)\n",
    "\n",
    "# add all other layers to classifier\n",
    "model.add(Bidirectional(LSTM(256, return_sequences=True, recurrent_dropout=0.1, dropout=0.1), 'concat'))\n",
    "model.add(Dropout(0.3))\n",
    "model.add(LSTM(256, return_sequences=False, recurrent_dropout=0.1, dropout=0.1))\n",
    "model.add(Dropout(0.3))\n",
    "model.add(Dense(50, activation='relu'))\n",
    "model.add(Dropout(0.3))\n",
    "model.add(Dense(classes.shape[0], activation='softmax'))\n",
    "model.compile(loss='categorical_crossentropy', optimizer='adam', metrics=['acc'])"
   ]
  },
  {
   "cell_type": "code",
   "execution_count": 14,
   "metadata": {},
   "outputs": [
    {
     "name": "stdout",
     "output_type": "stream",
     "text": [
      "Epoch 1/14\n",
      "260/260 [==============================] - 68s 236ms/step - loss: 4.6773 - acc: 0.0492 - val_loss: 3.8952 - val_acc: 0.0952\n",
      "Epoch 2/14\n",
      "260/260 [==============================] - 60s 232ms/step - loss: 3.3165 - acc: 0.1732 - val_loss: 2.2887 - val_acc: 0.3886\n",
      "Epoch 3/14\n",
      "260/260 [==============================] - 60s 230ms/step - loss: 2.2283 - acc: 0.3841 - val_loss: 1.4753 - val_acc: 0.6006\n",
      "Epoch 4/14\n",
      "260/260 [==============================] - 60s 231ms/step - loss: 1.5923 - acc: 0.5438 - val_loss: 1.1543 - val_acc: 0.6634\n",
      "Epoch 5/14\n",
      "260/260 [==============================] - 60s 232ms/step - loss: 1.2067 - acc: 0.6552 - val_loss: 0.9314 - val_acc: 0.7390\n",
      "Epoch 6/14\n",
      "260/260 [==============================] - 61s 235ms/step - loss: 1.0124 - acc: 0.7118 - val_loss: 0.7932 - val_acc: 0.7828\n",
      "Epoch 7/14\n",
      "260/260 [==============================] - 62s 238ms/step - loss: 0.8364 - acc: 0.7666 - val_loss: 0.7225 - val_acc: 0.8058\n",
      "Epoch 8/14\n",
      "260/260 [==============================] - 60s 230ms/step - loss: 0.7013 - acc: 0.8007 - val_loss: 0.6630 - val_acc: 0.8205\n",
      "Epoch 9/14\n",
      "260/260 [==============================] - 60s 230ms/step - loss: 0.6078 - acc: 0.8277 - val_loss: 0.6217 - val_acc: 0.8408\n",
      "Epoch 10/14\n",
      "260/260 [==============================] - 60s 229ms/step - loss: 0.5557 - acc: 0.8444 - val_loss: 0.6067 - val_acc: 0.8466\n",
      "Epoch 11/14\n",
      "260/260 [==============================] - 59s 228ms/step - loss: 0.4742 - acc: 0.8687 - val_loss: 0.5685 - val_acc: 0.8585\n",
      "Epoch 12/14\n",
      "260/260 [==============================] - 60s 230ms/step - loss: 0.4149 - acc: 0.8820 - val_loss: 0.5431 - val_acc: 0.8698\n",
      "Epoch 13/14\n",
      "260/260 [==============================] - 59s 227ms/step - loss: 0.3881 - acc: 0.8932 - val_loss: 0.5445 - val_acc: 0.8712\n",
      "Epoch 14/14\n",
      "260/260 [==============================] - 60s 230ms/step - loss: 0.3589 - acc: 0.9030 - val_loss: 0.5812 - val_acc: 0.8605\n"
     ]
    }
   ],
   "source": [
    "# Train model\n",
    "# Up to 20 epochs for best results\n",
    "history = model.fit(train_sequences, train_labels_encoded, epochs = 14,\n",
    "          batch_size = 64, shuffle=True,\n",
    "          validation_data=[test_sequences, test_labels_encoded])"
   ]
  },
  {
   "cell_type": "code",
   "execution_count": 12,
   "metadata": {},
   "outputs": [
    {
     "ename": "NameError",
     "evalue": "name 'history' is not defined",
     "output_type": "error",
     "traceback": [
      "\u001b[0;31m---------------------------------------------------------------------------\u001b[0m",
      "\u001b[0;31mNameError\u001b[0m                                 Traceback (most recent call last)",
      "Cell \u001b[0;32mIn[12], line 5\u001b[0m\n\u001b[1;32m      2\u001b[0m get_ipython()\u001b[38;5;241m.\u001b[39mrun_line_magic(\u001b[38;5;124m'\u001b[39m\u001b[38;5;124mmatplotlib\u001b[39m\u001b[38;5;124m'\u001b[39m, \u001b[38;5;124m'\u001b[39m\u001b[38;5;124minline\u001b[39m\u001b[38;5;124m'\u001b[39m)\n\u001b[1;32m      4\u001b[0m \u001b[38;5;66;03m# plot the loss and accuracy of the model of the training and validation data over epochs\u001b[39;00m\n\u001b[0;32m----> 5\u001b[0m plt\u001b[38;5;241m.\u001b[39mplot(\u001b[43mhistory\u001b[49m\u001b[38;5;241m.\u001b[39mhistory[\u001b[38;5;124m'\u001b[39m\u001b[38;5;124macc\u001b[39m\u001b[38;5;124m'\u001b[39m])\n\u001b[1;32m      6\u001b[0m plt\u001b[38;5;241m.\u001b[39mplot(history\u001b[38;5;241m.\u001b[39mhistory[\u001b[38;5;124m'\u001b[39m\u001b[38;5;124mval_acc\u001b[39m\u001b[38;5;124m'\u001b[39m])\n\u001b[1;32m      7\u001b[0m plt\u001b[38;5;241m.\u001b[39mtitle(\u001b[38;5;124m'\u001b[39m\u001b[38;5;124mModel Accuracy\u001b[39m\u001b[38;5;124m'\u001b[39m)\n",
      "\u001b[0;31mNameError\u001b[0m: name 'history' is not defined"
     ]
    }
   ],
   "source": [
    "import matplotlib.pyplot as plt\n",
    "%matplotlib inline\n",
    "\n",
    "# plot the loss and accuracy of the model of the training and validation data over epochs\n",
    "plt.plot(history.history['acc'])\n",
    "plt.plot(history.history['val_acc'])\n",
    "plt.title('Model Accuracy')\n",
    "plt.ylabel('Accuracy')\n",
    "plt.xlabel('Epoch')\n",
    "plt.legend(['Train', 'Validation'], loc='upper left')\n",
    "plt.show()"
   ]
  },
  {
   "cell_type": "code",
   "execution_count": 16,
   "metadata": {},
   "outputs": [
    {
     "data": {
      "image/png": "[encoded data removed]",
      "text/plain": [
       "<Figure size 640x480 with 1 Axes>"
      ]
     },
     "metadata": {},
     "output_type": "display_data"
    }
   ],
   "source": [
    "import matplotlib.pyplot as plt\n",
    "%matplotlib inline\n",
    "\n",
    "# plot the loss and accuracy of the model of the training and validation data over epochs\n",
    "plt.plot(history.history['loss'])\n",
    "plt.plot(history.history['val_loss'])\n",
    "plt.title('Model Loss')\n",
    "plt.ylabel('Loss')\n",
    "plt.xlabel('Epoch')\n",
    "plt.legend(['Train', 'Validation'], loc='upper left')\n",
    "plt.show()"
   ]
  },
  {
   "cell_type": "code",
   "execution_count": 19,
   "metadata": {},
   "outputs": [],
   "source": [
    "import pickle\n",
    "\n",
    "# save the model\n",
    "model.save('models/intents.keras')\n",
    "\n",
    "# save the tokenizer, label encoder, and classes\n",
    "with open('./utils/classes.pkl','wb') as file:\n",
    "   pickle.dump(classes,file)\n",
    "\n",
    "with open('./utils/tokenizer.pkl','wb') as file:\n",
    "   pickle.dump(tokenizer,file)\n",
    "\n",
    "with open('./utils/label_encoder.pkl','wb') as file:\n",
    "   pickle.dump(label_encoder,file)"
   ]
  },
  {
   "cell_type": "code",
   "execution_count": 13,
   "metadata": {},
   "outputs": [],
   "source": [
    "import numpy as np\n",
    "from tensorflow.keras.preprocessing.sequence import pad_sequences\n",
    "\n",
    "# a class that takes in encoding/model components and returns the intent of a given text\n",
    "class IntentClassifier:\n",
    "    def __init__(self,classes,model,tokenizer,label_encoder):\n",
    "        self.classes = classes\n",
    "        self.classifier = model\n",
    "        self.tokenizer = tokenizer\n",
    "        self.label_encoder = label_encoder\n",
    "\n",
    "    def get_intent(self,text):\n",
    "        self.text = [text]\n",
    "        self.test_keras = self.tokenizer.texts_to_sequences(self.text)\n",
    "        self.test_keras_sequence = pad_sequences(self.test_keras, maxlen=16, padding='post')\n",
    "        self.pred = self.classifier.predict(self.test_keras_sequence)\n",
    "        return self.label_encoder.inverse_transform(np.argmax(self.pred,1))[0]"
   ]
  },
  {
   "cell_type": "code",
   "execution_count": 15,
   "metadata": {},
   "outputs": [],
   "source": [
    "import pickle\n",
    "from tensorflow.keras.models import load_model\n",
    "\n",
    "### Start running code from here\n",
    "\n",
    "# load the model\n",
    "loaded_model = load_model('models/intents.keras')\n",
    "\n",
    "# load the necessary supllementary components\n",
    "with open('./utils/classes.pkl','rb') as file:\n",
    "  classes = pickle.load(file)\n",
    "\n",
    "with open('./utils/tokenizer.pkl','rb') as file:\n",
    "  tokenizer = pickle.load(file)\n",
    "\n",
    "with open('./utils/label_encoder.pkl','rb') as file:\n",
    "  label_encoder = pickle.load(file)"
   ]
  },
  {
   "cell_type": "code",
   "execution_count": 17,
   "metadata": {},
   "outputs": [
    {
     "name": "stdout",
     "output_type": "stream",
     "text": [
      "1/1 [==============================] - 0s 43ms/step\n",
      "restaurant_suggestion\n"
     ]
    }
   ],
   "source": [
    "# BEHOLD: THE CLASSIFIER\n",
    "\n",
    "nlu = IntentClassifier(classes, loaded_model, tokenizer, label_encoder)\n",
    "print(nlu.get_intent(\"Book me a Greek restaurant in Toronto\"))"
   ]
  },
  {
   "cell_type": "code",
   "execution_count": null,
   "metadata": {},
   "outputs": [],
   "source": []
  }
 ],
 "metadata": {
  "kernelspec": {
   "display_name": "tf",
   "language": "python",
   "name": "python3"
  },
  "language_info": {
   "codemirror_mode": {
    "name": "ipython",
    "version": 3
   },
   "file_extension": ".py",
   "mimetype": "text/x-python",
   "name": "python",
   "nbconvert_exporter": "python",
   "pygments_lexer": "ipython3",
   "version": "3.10.13"
  }
 },
 "nbformat": 4,
 "nbformat_minor": 2
}
