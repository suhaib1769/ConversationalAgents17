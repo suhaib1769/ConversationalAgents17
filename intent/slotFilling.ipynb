{
 "cells": [
  {
   "cell_type": "code",
   "execution_count": 2,
   "metadata": {},
   "outputs": [
    {
     "data": {
      "text/html": [
       "<div>\n",
       "<style scoped>\n",
       "    .dataframe tbody tr th:only-of-type {\n",
       "        vertical-align: middle;\n",
       "    }\n",
       "\n",
       "    .dataframe tbody tr th {\n",
       "        vertical-align: top;\n",
       "    }\n",
       "\n",
       "    .dataframe thead th {\n",
       "        text-align: right;\n",
       "    }\n",
       "</style>\n",
       "<table border=\"1\" class=\"dataframe\">\n",
       "  <thead>\n",
       "    <tr style=\"text-align: right;\">\n",
       "      <th></th>\n",
       "      <th>sentences</th>\n",
       "      <th>slot_labels</th>\n",
       "    </tr>\n",
       "  </thead>\n",
       "  <tbody>\n",
       "    <tr>\n",
       "      <th>0</th>\n",
       "      <td>Add another song to the Cita RomÃ¡ntica playlist</td>\n",
       "      <td>O O B-music_item O O B-playlist I-playlist O</td>\n",
       "    </tr>\n",
       "    <tr>\n",
       "      <th>1</th>\n",
       "      <td>add clem burke in my playlist Pre-Party R&amp;B Jams</td>\n",
       "      <td>O B-artist I-artist O B-playlist_owner O B-pla...</td>\n",
       "    </tr>\n",
       "    <tr>\n",
       "      <th>2</th>\n",
       "      <td>Add Live from Aragon Ballroom to Trapeo</td>\n",
       "      <td>O B-entity_name I-entity_name I-entity_name I-...</td>\n",
       "    </tr>\n",
       "    <tr>\n",
       "      <th>3</th>\n",
       "      <td>add Unite and Win to my night out</td>\n",
       "      <td>O B-entity_name I-entity_name I-entity_name O ...</td>\n",
       "    </tr>\n",
       "    <tr>\n",
       "      <th>4</th>\n",
       "      <td>Add track to my Digster Future Hits</td>\n",
       "      <td>O B-music_item O B-playlist_owner B-playlist I...</td>\n",
       "    </tr>\n",
       "  </tbody>\n",
       "</table>\n",
       "</div>"
      ],
      "text/plain": [
       "                                          sentences  \\\n",
       "0  Add another song to the Cita RomÃ¡ntica playlist   \n",
       "1  add clem burke in my playlist Pre-Party R&B Jams   \n",
       "2           Add Live from Aragon Ballroom to Trapeo   \n",
       "3                 add Unite and Win to my night out   \n",
       "4               Add track to my Digster Future Hits   \n",
       "\n",
       "                                         slot_labels  \n",
       "0       O O B-music_item O O B-playlist I-playlist O  \n",
       "1  O B-artist I-artist O B-playlist_owner O B-pla...  \n",
       "2  O B-entity_name I-entity_name I-entity_name I-...  \n",
       "3  O B-entity_name I-entity_name I-entity_name O ...  \n",
       "4  O B-music_item O B-playlist_owner B-playlist I...  "
      ]
     },
     "execution_count": 2,
     "metadata": {},
     "output_type": "execute_result"
    }
   ],
   "source": [
    "\n",
    "import pandas as pd\n",
    "\n",
    "#Read sentences from a text file\n",
    "def read_file(filename):\n",
    "    with open(filename, 'r') as f:\n",
    "        lines = [x.strip() for x in f.readlines()]\n",
    "        return lines\n",
    "\n",
    "# load sentences and slot labels into a dataframe\n",
    "sentences = read_file(\"deepakData/snips_sentences_subset.txt\")\n",
    "slot_labels = read_file(\"deepakData/snips_slot_labels_subset.txt\")\n",
    "\n",
    "df = pd.DataFrame(list(zip(sentences, slot_labels)), columns =['sentences', 'slot_labels']) \n",
    "df.head()"
   ]
  },
  {
   "cell_type": "code",
   "execution_count": 3,
   "metadata": {},
   "outputs": [
    {
     "name": "stderr",
     "output_type": "stream",
     "text": [
      "2024-01-19 11:50:41.131731: I tensorflow/core/platform/cpu_feature_guard.cc:182] This TensorFlow binary is optimized to use available CPU instructions in performance-critical operations.\n",
      "To enable the following instructions: AVX2 FMA, in other operations, rebuild TensorFlow with the appropriate compiler flags.\n"
     ]
    },
    {
     "name": "stdout",
     "output_type": "stream",
     "text": [
      "(6299,) (1575,) (6299,) (1575,)\n"
     ]
    }
   ],
   "source": [
    "\n",
    "import numpy as np\n",
    "import tensorflow as tf\n",
    "from sklearn.model_selection import train_test_split\n",
    "\n",
    "# store seeds\n",
    "TEST_SPLIT = 0.2\n",
    "RANDOM_STATE = 1\n",
    "np.random.seed(RANDOM_STATE)\n",
    "tf.random.set_seed(RANDOM_STATE)\n",
    "\n",
    "#Split the dataset into train and test\n",
    "X_train, X_test, y_train, y_test = train_test_split(df['sentences'], df['slot_labels'], \n",
    "                                                    test_size = TEST_SPLIT, random_state = RANDOM_STATE)\n",
    "\n",
    "print(X_train.shape, X_test.shape, y_train.shape, y_test.shape)"
   ]
  },
  {
   "cell_type": "code",
   "execution_count": 14,
   "metadata": {},
   "outputs": [
    {
     "name": "stdout",
     "output_type": "stream",
     "text": [
      "(6299, 19, 58) (1575, 19, 58)\n",
      "(6299, 19, 1) (1575, 19, 1)\n"
     ]
    }
   ],
   "source": [
    "from keras.preprocessing.text import Tokenizer\n",
    "from keras.preprocessing.sequence import pad_sequences\n",
    "from keras import utils\n",
    "\n",
    "# we know max number of words in dataset\n",
    "NUM_WORDS = 7501\n",
    "OOV_TOKEN = \"<UNK>\"\n",
    "\n",
    "# Initialize Tokenizers for words and slot labels\n",
    "# Is filtering out nothing the right thing to do?\n",
    "tokenizer = Tokenizer(num_words = NUM_WORDS, filters = '', lower = False, oov_token = OOV_TOKEN)\n",
    "tokenizer.fit_on_texts(list(X_train))\n",
    "\n",
    "y_tokenizer = Tokenizer(filters = '', lower = False)\n",
    "y_tokenizer.fit_on_texts(list(y_train))\n",
    "\n",
    "# Convert text to sequences\n",
    "X_seq = tokenizer.texts_to_sequences(list(X_train))\n",
    "X_test_seq = tokenizer.texts_to_sequences(list(X_test))\n",
    "\n",
    "y_seq = y_tokenizer.texts_to_sequences(list(y_train))\n",
    "y_test_seq = y_tokenizer.texts_to_sequences(list(y_test))\n",
    "\n",
    "# make the max seq length the 99th percentile of the lengths\n",
    "lengths = [len(c.split()) for c in X_train]\n",
    "MAX_SEQ_LEN = int(np.percentile(lengths, 99))\n",
    "\n",
    "# Pad the sequences\n",
    "X_train_padded = pad_sequences(X_seq, maxlen = MAX_SEQ_LEN, padding = 'post')\n",
    "X_test_padded = pad_sequences(X_test_seq, maxlen = MAX_SEQ_LEN, padding = 'post')\n",
    "\n",
    "y_train_padded = pad_sequences(y_seq, maxlen = MAX_SEQ_LEN, padding = 'post')\n",
    "y_test_padded = pad_sequences(y_test_seq, maxlen = MAX_SEQ_LEN, padding = 'post')\n",
    "\n",
    "# Convert labels to one-hot vectors\n",
    "# There are 58 unique slot labels\n",
    "y_train_encoded = utils.to_categorical(y_train_padded)\n",
    "y_test_encoded = utils.to_categorical(y_test_padded)\n",
    "print(y_train_encoded.shape, y_test_encoded.shape)\n",
    "\n",
    "#Reshape the input for Bi-LSTM\n",
    "X_train_padded = np.reshape(X_train_padded, (X_train_padded.shape[0], X_train_padded.shape[1], 1))\n",
    "X_test_padded = np.reshape(X_test_padded, (X_test_padded.shape[0], X_test_padded.shape[1], 1))\n",
    "print(X_train_padded.shape, X_test_padded.shape)"
   ]
  },
  {
   "cell_type": "code",
   "execution_count": 18,
   "metadata": {},
   "outputs": [
    {
     "name": "stdout",
     "output_type": "stream",
     "text": [
      "Model: \"sequential_1\"\n",
      "_________________________________________________________________\n",
      " Layer (type)                Output Shape              Param #   \n",
      "=================================================================\n",
      " embedding_1 (Embedding)     (None, 19, 64)            480064    \n",
      "                                                                 \n",
      " bidirectional_1 (Bidirecti  (None, 19, 64)            24832     \n",
      " onal)                                                           \n",
      "                                                                 \n",
      " time_distributed_1 (TimeDi  (None, 19, 58)            3770      \n",
      " stributed)                                                      \n",
      "                                                                 \n",
      "=================================================================\n",
      "Total params: 508666 (1.94 MB)\n",
      "Trainable params: 508666 (1.94 MB)\n",
      "Non-trainable params: 0 (0.00 Byte)\n",
      "_________________________________________________________________\n"
     ]
    }
   ],
   "source": [
    "from keras.models import Sequential\n",
    "from keras.layers import Embedding, LSTM, Dense, Bidirectional, TimeDistributed\n",
    "from keras.metrics import Precision, Recall\n",
    "\n",
    "EMBEDDING_DIM = 64\n",
    "NUM_UNITS = 32\n",
    "Y_VOCAB_SIZE = len(y_tokenizer.word_index) + 1\n",
    "\n",
    "\n",
    "#Define a Bi-LSTM model\n",
    "bilstm_model = Sequential()\n",
    "bilstm_model.add(Embedding(input_dim = NUM_WORDS, output_dim = EMBEDDING_DIM, input_length = MAX_SEQ_LEN))\n",
    "bilstm_model.add(Bidirectional(LSTM(NUM_UNITS, activation='relu', return_sequences=True)))\n",
    "bilstm_model.add(TimeDistributed(Dense(Y_VOCAB_SIZE, activation='softmax')))\n",
    "\n",
    "#Compile the model\n",
    "bilstm_model.compile(optimizer='adam', loss='categorical_crossentropy', metrics=['accuracy'])\n",
    "\n",
    "bilstm_model.summary()"
   ]
  },
  {
   "cell_type": "code",
   "execution_count": 22,
   "metadata": {},
   "outputs": [
    {
     "name": "stdout",
     "output_type": "stream",
     "text": [
      "Epoch 1/6\n",
      "197/197 [==============================] - 2s 12ms/step - loss: 0.0964 - accuracy: 0.9756 - val_loss: 0.2096 - val_accuracy: 0.9405\n",
      "Epoch 2/6\n",
      "197/197 [==============================] - 2s 11ms/step - loss: 0.0677 - accuracy: 0.9830 - val_loss: 0.1891 - val_accuracy: 0.9479\n",
      "Epoch 3/6\n",
      "197/197 [==============================] - 2s 11ms/step - loss: 0.0503 - accuracy: 0.9876 - val_loss: 0.1838 - val_accuracy: 0.9507\n",
      "Epoch 4/6\n",
      "197/197 [==============================] - 2s 11ms/step - loss: 0.0388 - accuracy: 0.9908 - val_loss: 0.1770 - val_accuracy: 0.9528\n",
      "Epoch 5/6\n",
      "197/197 [==============================] - 2s 12ms/step - loss: 0.0300 - accuracy: 0.9929 - val_loss: 0.1807 - val_accuracy: 0.9528\n",
      "Epoch 6/6\n",
      "197/197 [==============================] - 2s 12ms/step - loss: 0.0229 - accuracy: 0.9948 - val_loss: 0.1812 - val_accuracy: 0.9539\n"
     ]
    }
   ],
   "source": [
    "# Fit the model on training data\n",
    "history = bilstm_model.fit(X_train_padded, y_train_encoded, batch_size = 32, epochs = 10, validation_data=(X_test_padded, y_test_encoded))"
   ]
  },
  {
   "cell_type": "code",
   "execution_count": 24,
   "metadata": {},
   "outputs": [
    {
     "data": {
      "image/png": "[encoded data removed]",
      "text/plain": [
       "<Figure size 640x480 with 1 Axes>"
      ]
     },
     "metadata": {},
     "output_type": "display_data"
    }
   ],
   "source": [
    "from matplotlib import pyplot\n",
    "\n",
    "# plot learning curves\n",
    "pyplot.title('Learning Curves')\n",
    "pyplot.xlabel('Epoch')\n",
    "pyplot.ylabel('Cross Entropy')\n",
    "pyplot.plot(history.history['accuracy'], label='train')\n",
    "pyplot.plot(history.history['val_accuracy'], label='val')\n",
    "pyplot.legend()\n",
    "pyplot.show()"
   ]
  },
  {
   "cell_type": "code",
   "execution_count": 42,
   "metadata": {},
   "outputs": [
    {
     "name": "stdout",
     "output_type": "stream",
     "text": [
      "50/50 [==============================] - 0s 4ms/step - loss: 0.1812 - accuracy: 0.9539\n"
     ]
    }
   ],
   "source": [
    "#Evaluate the model performance on test data\n",
    "bilstm_score = bilstm_model.evaluate(X_test_padded, y_test_encoded, batch_size = 32)"
   ]
  },
  {
   "cell_type": "code",
   "execution_count": 46,
   "metadata": {},
   "outputs": [
    {
     "name": "stdout",
     "output_type": "stream",
     "text": [
      "1/1 [==============================] - 0s 35ms/step\n",
      "Book me a Greek restaurant in Toronto\n",
      "['O', 'O', 'O', 'B-cuisine', 'B-restaurant_type', 'O', 'B-city']\n"
     ]
    }
   ],
   "source": [
    "label_list = list(y_tokenizer.word_index.keys())\n",
    "index_list = list(y_tokenizer.word_index.values())\n",
    "\n",
    "#Input sentence\n",
    "sentence = \"Book me a Greek restaurant in Toronto\"\n",
    "input_seq = tokenizer.texts_to_sequences([sentence])\n",
    "input_features = pad_sequences(input_seq, maxlen = MAX_SEQ_LEN, padding = 'post')\n",
    "\n",
    "#Predict the slots\n",
    "prediction = bilstm_model.predict(input_features)\n",
    "slots = [label_list[index_list.index(j)] for j in [np.argmax(x) for x in prediction[0][:]] if j in index_list]\n",
    "print(sentence)\n",
    "print(slots)"
   ]
  }
 ],
 "metadata": {
  "kernelspec": {
   "display_name": "intent",
   "language": "python",
   "name": "python3"
  },
  "language_info": {
   "codemirror_mode": {
    "name": "ipython",
    "version": 3
   },
   "file_extension": ".py",
   "mimetype": "text/x-python",
   "name": "python",
   "nbconvert_exporter": "python",
   "pygments_lexer": "ipython3",
   "version": "3.10.13"
  }
 },
 "nbformat": 4,
 "nbformat_minor": 2
}
