{
 "cells": [
  {
   "cell_type": "code",
   "execution_count": 55,
   "metadata": {},
   "outputs": [
    {
     "data": {
      "text/html": [
       "<div>\n",
       "<style scoped>\n",
       "    .dataframe tbody tr th:only-of-type {\n",
       "        vertical-align: middle;\n",
       "    }\n",
       "\n",
       "    .dataframe tbody tr th {\n",
       "        vertical-align: top;\n",
       "    }\n",
       "\n",
       "    .dataframe thead th {\n",
       "        text-align: right;\n",
       "    }\n",
       "</style>\n",
       "<table border=\"1\" class=\"dataframe\">\n",
       "  <thead>\n",
       "    <tr style=\"text-align: right;\">\n",
       "      <th></th>\n",
       "      <th>sentences</th>\n",
       "      <th>slot_labels</th>\n",
       "    </tr>\n",
       "  </thead>\n",
       "  <tbody>\n",
       "    <tr>\n",
       "      <th>0</th>\n",
       "      <td>Add another song to the Cita RomÃ¡ntica playlist</td>\n",
       "      <td>O O B-music_item O O B-playlist I-playlist O</td>\n",
       "    </tr>\n",
       "    <tr>\n",
       "      <th>1</th>\n",
       "      <td>add clem burke in my playlist Pre-Party R&amp;B Jams</td>\n",
       "      <td>O B-artist I-artist O B-playlist_owner O B-pla...</td>\n",
       "    </tr>\n",
       "    <tr>\n",
       "      <th>2</th>\n",
       "      <td>Add Live from Aragon Ballroom to Trapeo</td>\n",
       "      <td>O B-entity_name I-entity_name I-entity_name I-...</td>\n",
       "    </tr>\n",
       "    <tr>\n",
       "      <th>3</th>\n",
       "      <td>add Unite and Win to my night out</td>\n",
       "      <td>O B-entity_name I-entity_name I-entity_name O ...</td>\n",
       "    </tr>\n",
       "    <tr>\n",
       "      <th>4</th>\n",
       "      <td>Add track to my Digster Future Hits</td>\n",
       "      <td>O B-music_item O B-playlist_owner B-playlist I...</td>\n",
       "    </tr>\n",
       "  </tbody>\n",
       "</table>\n",
       "</div>"
      ],
      "text/plain": [
       "                                          sentences  \\\n",
       "0  Add another song to the Cita RomÃ¡ntica playlist   \n",
       "1  add clem burke in my playlist Pre-Party R&B Jams   \n",
       "2           Add Live from Aragon Ballroom to Trapeo   \n",
       "3                 add Unite and Win to my night out   \n",
       "4               Add track to my Digster Future Hits   \n",
       "\n",
       "                                         slot_labels  \n",
       "0       O O B-music_item O O B-playlist I-playlist O  \n",
       "1  O B-artist I-artist O B-playlist_owner O B-pla...  \n",
       "2  O B-entity_name I-entity_name I-entity_name I-...  \n",
       "3  O B-entity_name I-entity_name I-entity_name O ...  \n",
       "4  O B-music_item O B-playlist_owner B-playlist I...  "
      ]
     },
     "execution_count": 55,
     "metadata": {},
     "output_type": "execute_result"
    }
   ],
   "source": [
    "\n",
    "import pandas as pd\n",
    "\n",
    "#Read sentences from a text file\n",
    "def read_file(filename):\n",
    "    with open(filename, 'r') as f:\n",
    "        lines = [x.strip() for x in f.readlines()]\n",
    "        return lines\n",
    "\n",
    "# load sentences and slot labels into a dataframe\n",
    "sentences = read_file(\"slotData/snips_sentences_subset.txt\")\n",
    "slot_labels = read_file(\"slotData/snips_slot_labels_subset.txt\")\n",
    "\n",
    "df = pd.DataFrame(list(zip(sentences, slot_labels)), columns =['sentences', 'slot_labels']) \n",
    "df.head()"
   ]
  },
  {
   "cell_type": "code",
   "execution_count": 8,
   "metadata": {},
   "outputs": [
    {
     "name": "stdout",
     "output_type": "stream",
     "text": [
      "(6299,) (1575,) (6299,) (1575,)\n"
     ]
    }
   ],
   "source": [
    "\n",
    "import numpy as np\n",
    "import tensorflow as tf\n",
    "from sklearn.model_selection import train_test_split\n",
    "\n",
    "# store seeds\n",
    "TEST_SPLIT = 0.2\n",
    "RANDOM_STATE = 1\n",
    "np.random.seed(RANDOM_STATE)\n",
    "tf.random.set_seed(RANDOM_STATE)\n",
    "\n",
    "#Split the dataset into train and test\n",
    "X_train, X_test, y_train, y_test = train_test_split(df['sentences'], df['slot_labels'], \n",
    "                                                    test_size = TEST_SPLIT, random_state = RANDOM_STATE)\n",
    "\n",
    "print(X_train.shape, X_test.shape, y_train.shape, y_test.shape)"
   ]
  },
  {
   "cell_type": "code",
   "execution_count": 31,
   "metadata": {},
   "outputs": [
    {
     "name": "stdout",
     "output_type": "stream",
     "text": [
      "(6299, 19, 58) (1575, 19, 58)\n",
      "(6299, 19) (1575, 19)\n"
     ]
    }
   ],
   "source": [
    "from keras.preprocessing.text import Tokenizer\n",
    "from keras.preprocessing.sequence import pad_sequences\n",
    "from keras import utils\n",
    "\n",
    "# we know max number of words in dataset\n",
    "MAX_NUM_WORDS = 7501\n",
    "OOV_TOKEN = \"<UNK>\"\n",
    "\n",
    "# Initialize Tokenizers for words and slot labels\n",
    "# Is filtering out nothing the right thing to do?\n",
    "tokenizer = Tokenizer(num_words=MAX_NUM_WORDS, filters = '', lower = False, oov_token = OOV_TOKEN)\n",
    "tokenizer.fit_on_texts(list(X_train))\n",
    "\n",
    "y_tokenizer = Tokenizer(filters = '', lower = False)\n",
    "y_tokenizer.fit_on_texts(list(y_train))\n",
    "\n",
    "# Convert text to sequences\n",
    "X_seq = tokenizer.texts_to_sequences(list(X_train))\n",
    "X_test_seq = tokenizer.texts_to_sequences(list(X_test))\n",
    "\n",
    "y_seq = y_tokenizer.texts_to_sequences(list(y_train))\n",
    "y_test_seq = y_tokenizer.texts_to_sequences(list(y_test))\n",
    "\n",
    "# make the max seq length the 99th percentile of the lengths\n",
    "lengths = [len(c.split()) for c in X_train]\n",
    "MAX_SEQ_LEN = int(np.percentile(lengths, 99))\n",
    "\n",
    "# Pad the sequences\n",
    "X_train_padded = pad_sequences(X_seq, maxlen = MAX_SEQ_LEN, padding = 'post')\n",
    "X_test_padded = pad_sequences(X_test_seq, maxlen = MAX_SEQ_LEN, padding = 'post')\n",
    "\n",
    "y_train_padded = pad_sequences(y_seq, maxlen = MAX_SEQ_LEN, padding = 'post')\n",
    "y_test_padded = pad_sequences(y_test_seq, maxlen = MAX_SEQ_LEN, padding = 'post')\n",
    "\n",
    "# Convert labels to one-hot vectors\n",
    "# There are 58 unique slot labels\n",
    "train_labels_encoded = utils.to_categorical(y_train_padded)\n",
    "test_labels_encoded = utils.to_categorical(y_test_padded)\n",
    "print(train_labels_encoded.shape, test_labels_encoded.shape)\n",
    "\n",
    "#Reshape the input for Bi-LSTM\n",
    "train_sequences = np.reshape(X_train_padded, (X_train_padded.shape[0], X_train_padded.shape[1], 1))\n",
    "test_sequences = np.reshape(X_test_padded, (X_test_padded.shape[0], X_test_padded.shape[1], 1))\n",
    "print(X_train_padded.shape, X_test_padded.shape)"
   ]
  },
  {
   "cell_type": "code",
   "execution_count": 32,
   "metadata": {},
   "outputs": [],
   "source": [
    "# create a dictionary, where each word indexes its embedding\n",
    "\n",
    "embeddings_index={}\n",
    "\n",
    "with open('glove.6B.100d.txt', encoding='utf8') as f:\n",
    "    for line in f:\n",
    "        values = line.split()\n",
    "        word = values[0]\n",
    "        coefs = np.asarray(values[1:], dtype='float32')\n",
    "        embeddings_index[word] = coefs"
   ]
  },
  {
   "cell_type": "code",
   "execution_count": 33,
   "metadata": {},
   "outputs": [],
   "source": [
    "all_embs = np.stack(list(embeddings_index.values()))\n",
    "emb_mean,emb_std = all_embs.mean(), all_embs.std()\n",
    "\n",
    "num_words = MAX_NUM_WORDS+1\n",
    "embedding_dim=len(embeddings_index['the'])\n",
    "\n",
    "# just populate with random values in case there is a missing value\n",
    "embedding_matrix = np.random.normal(emb_mean, emb_std, (num_words, embedding_dim))\n",
    "\n",
    "# word encodings are sorted [1..n]\n",
    "# loop through all (word, encoding) pairs and place it in the embedding matrix\n",
    "for word, i in tokenizer.word_index.items():\n",
    "    if i >= MAX_NUM_WORDS:\n",
    "        break\n",
    "    embedding_vector = embeddings_index.get(word)\n",
    "    if embedding_vector is not None:\n",
    "        embedding_matrix[i] = embedding_vector"
   ]
  },
  {
   "cell_type": "code",
   "execution_count": 37,
   "metadata": {},
   "outputs": [
    {
     "name": "stdout",
     "output_type": "stream",
     "text": [
      "Model: \"sequential_5\"\n",
      "_________________________________________________________________\n",
      " Layer (type)                Output Shape              Param #   \n",
      "=================================================================\n",
      " embedding_3 (Embedding)     (None, 19, 100)           750200    \n",
      "                                                                 \n",
      " dropout_9 (Dropout)         (None, 19, 100)           0         \n",
      "                                                                 \n",
      " bidirectional_6 (Bidirecti  (None, 19, 256)           234496    \n",
      " onal)                                                           \n",
      "                                                                 \n",
      " dropout_10 (Dropout)        (None, 19, 256)           0         \n",
      "                                                                 \n",
      " bidirectional_7 (Bidirecti  (None, 19, 256)           394240    \n",
      " onal)                                                           \n",
      "                                                                 \n",
      " dropout_11 (Dropout)        (None, 19, 256)           0         \n",
      "                                                                 \n",
      " time_distributed_3 (TimeDi  (None, 19, 58)            14906     \n",
      " stributed)                                                      \n",
      "                                                                 \n",
      "=================================================================\n",
      "Total params: 1393842 (5.32 MB)\n",
      "Trainable params: 643642 (2.46 MB)\n",
      "Non-trainable params: 750200 (2.86 MB)\n",
      "_________________________________________________________________\n"
     ]
    }
   ],
   "source": [
    "from keras.models import Sequential\n",
    "from keras.initializers import Constant\n",
    "from keras.layers import Embedding, LSTM, Dense, Bidirectional, TimeDistributed, Dropout\n",
    "\n",
    "NUM_UNITS = 128\n",
    "Y_VOCAB_SIZE = len(y_tokenizer.word_index) + 1\n",
    "\n",
    "\n",
    "#Define a Bi-LSTM model\n",
    "bilstm_model = Sequential()\n",
    "embedding_layer = Embedding(num_words, embedding_dim, input_length=MAX_SEQ_LEN, embeddings_initializer=Constant(embedding_matrix), trainable=False)\n",
    "# Embedding(input_dim = MAX_NUM_WORDS, output_dim = EMBEDDING_DIM, input_length = MAX_SEQ_LEN)\n",
    "bilstm_model.add(embedding_layer)\n",
    "bilstm_model.add(Dropout(0.2))\n",
    "bilstm_model.add(Bidirectional(LSTM(NUM_UNITS, activation='relu', return_sequences=True, recurrent_dropout=0.1, dropout=0.1)))\n",
    "bilstm_model.add(Dropout(0.2))\n",
    "bilstm_model.add(Bidirectional(LSTM(NUM_UNITS, activation='relu', return_sequences=True, recurrent_dropout=0.1, dropout=0.1)))\n",
    "bilstm_model.add(Dropout(0.2))\n",
    "bilstm_model.add(TimeDistributed(Dense(Y_VOCAB_SIZE, activation='softmax')))\n",
    "\n",
    "#Compile the model\n",
    "bilstm_model.compile(optimizer='adam', loss='categorical_crossentropy', metrics=['accuracy'])\n",
    "\n",
    "bilstm_model.summary()"
   ]
  },
  {
   "cell_type": "code",
   "execution_count": 38,
   "metadata": {},
   "outputs": [
    {
     "name": "stdout",
     "output_type": "stream",
     "text": [
      "Epoch 1/8\n",
      "99/99 [==============================] - 22s 128ms/step - loss: 1.2727 - accuracy: 0.7372 - val_loss: 0.7631 - val_accuracy: 0.7944\n",
      "Epoch 2/8\n",
      "99/99 [==============================] - 12s 120ms/step - loss: 0.6154 - accuracy: 0.8355 - val_loss: 0.3722 - val_accuracy: 0.8941\n",
      "Epoch 3/8\n",
      "99/99 [==============================] - 12s 120ms/step - loss: 0.3763 - accuracy: 0.8902 - val_loss: 0.2421 - val_accuracy: 0.9265\n",
      "Epoch 4/8\n",
      "99/99 [==============================] - 12s 122ms/step - loss: 0.2834 - accuracy: 0.9157 - val_loss: 0.1967 - val_accuracy: 0.9402\n",
      "Epoch 5/8\n",
      "99/99 [==============================] - 12s 120ms/step - loss: 0.2297 - accuracy: 0.9291 - val_loss: 0.1555 - val_accuracy: 0.9520\n",
      "Epoch 6/8\n",
      "99/99 [==============================] - 12s 122ms/step - loss: 0.1910 - accuracy: 0.9409 - val_loss: 0.1408 - val_accuracy: 0.9569\n",
      "Epoch 7/8\n",
      "99/99 [==============================] - 12s 120ms/step - loss: 0.1674 - accuracy: 0.9469 - val_loss: 0.1327 - val_accuracy: 0.9583\n",
      "Epoch 8/8\n",
      "99/99 [==============================] - 12s 124ms/step - loss: 0.1517 - accuracy: 0.9519 - val_loss: 0.1166 - val_accuracy: 0.9635\n"
     ]
    }
   ],
   "source": [
    "# Fit the model on training data\n",
    "history = bilstm_model.fit(train_sequences, train_labels_encoded, batch_size = 64, epochs = 8, validation_data=(test_sequences, test_labels_encoded))"
   ]
  },
  {
   "cell_type": "code",
   "execution_count": 72,
   "metadata": {},
   "outputs": [
    {
     "data": {
      "image/png": "[encoded data removed]",
      "text/plain": [
       "<Figure size 640x480 with 1 Axes>"
      ]
     },
     "metadata": {},
     "output_type": "display_data"
    }
   ],
   "source": [
    "from matplotlib import pyplot\n",
    "\n",
    "# plot learning curves\n",
    "pyplot.title('Learning Curves')\n",
    "pyplot.xlabel('Epoch')\n",
    "pyplot.ylabel('Cross Entropy')\n",
    "pyplot.plot(history.history['accuracy'], label='train')\n",
    "pyplot.plot(history.history['val_accuracy'], label='val')\n",
    "pyplot.legend()\n",
    "pyplot.show()"
   ]
  },
  {
   "cell_type": "code",
   "execution_count": 73,
   "metadata": {},
   "outputs": [
    {
     "name": "stdout",
     "output_type": "stream",
     "text": [
      "50/50 [==============================] - 1s 15ms/step - loss: 0.1166 - accuracy: 0.9635\n"
     ]
    }
   ],
   "source": [
    "#Evaluate the model performance on test data\n",
    "bilstm_score = bilstm_model.evaluate(test_sequences, test_labels_encoded, batch_size = 32)"
   ]
  },
  {
   "cell_type": "code",
   "execution_count": 74,
   "metadata": {},
   "outputs": [],
   "source": [
    "import pickle\n",
    "\n",
    "# save the model\n",
    "bilstm_model.save('models/slotLabelling.keras')\n",
    "\n",
    "with open('./slotLabelModel/tokenizer.pkl','wb') as file:\n",
    "  pickle.dump(tokenizer, file)\n",
    "\n",
    "with open('./slotLabelModel/label_list.pkl','wb') as file:\n",
    "  label_list = list(y_tokenizer.word_index.keys())\n",
    "  pickle.dump(label_list, file)\n",
    "\n",
    "with open('./slotLabelModel/index_list.pkl','wb') as file:\n",
    "  index_list = list(y_tokenizer.word_index.values())\n",
    "  pickle.dump(index_list, file)\n",
    "\n",
    "with open('./slotLabelModel/max_seq_length.pkl','wb') as file:\n",
    "  pickle.dump(MAX_SEQ_LEN, file)"
   ]
  },
  {
   "cell_type": "code",
   "execution_count": 5,
   "metadata": {},
   "outputs": [],
   "source": [
    "import numpy as np\n",
    "from keras.preprocessing.sequence import pad_sequences\n",
    "\n",
    "# a class that takes in encoding/model components and returns the intent of a given text\n",
    "class SlotLabeller:\n",
    "    def __init__(self, model, tokenizer, label_list, index_list, max_seq_len):\n",
    "        self.model = model\n",
    "        self.tokenizer = tokenizer\n",
    "        self.label_list = label_list\n",
    "        self.index_list = index_list\n",
    "        self.max_seq_len = max_seq_len\n",
    "\n",
    "    def fill_slots(self, text):\n",
    "        self.text = [text]\n",
    "        self.input_seq = self.tokenizer.texts_to_sequences(self.text)\n",
    "        self.sequence = pad_sequences(self.input_seq, maxlen=self.max_seq_len, padding='post')\n",
    "\n",
    "        prediction = self.model.predict(self.sequence)\n",
    "        return [self.label_list[self.index_list.index(j)] for j in [np.argmax(x) for x in prediction[0][:]] if j in self.index_list]\n",
    "    "
   ]
  },
  {
   "cell_type": "code",
   "execution_count": 6,
   "metadata": {},
   "outputs": [],
   "source": [
    "import pickle\n",
    "from keras.models import load_model\n",
    "\n",
    "# load the slot labelling model\n",
    "loaded_model = load_model('models/slotLabelling.keras')\n",
    "\n",
    "# load the necessary supllementary components\n",
    "with open('./slotLabelModel/tokenizer.pkl','rb') as file:\n",
    "    slot_tokenizer = pickle.load(file)\n",
    "\n",
    "with open('./slotLabelModel/label_list.pkl','rb') as file:\n",
    "    slot_label_list = pickle.load(file)\n",
    "\n",
    "with open('./slotLabelModel/index_list.pkl','rb') as file:\n",
    "    slot_index_list = pickle.load(file)\n",
    "\n",
    "with open('./slotLabelModel/max_seq_length.pkl','rb') as file:\n",
    "    slot_max_seq_length = pickle.load(file)"
   ]
  },
  {
   "cell_type": "code",
   "execution_count": 7,
   "metadata": {},
   "outputs": [
    {
     "name": "stdout",
     "output_type": "stream",
     "text": [
      "1/1 [==============================] - 1s 682ms/step\n"
     ]
    },
    {
     "data": {
      "text/plain": [
       "['O', 'O', 'O', 'O', 'O', 'B-restaurant_type']"
      ]
     },
     "execution_count": 7,
     "metadata": {},
     "output_type": "execute_result"
    }
   ],
   "source": [
    "# BEHOLD: THE SLOT LABELLER\n",
    "slotLabeller = SlotLabeller(loaded_model, slot_tokenizer, slot_label_list, slot_index_list, slot_max_seq_length)\n",
    "\n",
    "utterance = \"I want to order a pizza\"\n",
    "slotLabeller.fill_slots(utterance)"
   ]
  }
 ],
 "metadata": {
  "kernelspec": {
   "display_name": "intent",
   "language": "python",
   "name": "python3"
  },
  "language_info": {
   "codemirror_mode": {
    "name": "ipython",
    "version": 3
   },
   "file_extension": ".py",
   "mimetype": "text/x-python",
   "name": "python",
   "nbconvert_exporter": "python",
   "pygments_lexer": "ipython3",
   "version": "3.10.13"
  }
 },
 "nbformat": 4,
 "nbformat_minor": 2
}
